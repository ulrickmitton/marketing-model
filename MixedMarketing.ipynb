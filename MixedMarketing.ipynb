{
 "cells": [
  {
   "cell_type": "markdown",
   "id": "85113132",
   "metadata": {},
   "source": [
    "## Objective:\n",
    "\n",
    "The goal of this project is to estimate the impact of marketing channels (TV, digital, print, social media) on weekly product sales, while accounting for seasonality and price fluctuations. My learning intention is to do some simple OLS regression in Python and develop my familiarity with pandas, numpy, statsmodels and scikit. Obviously, this is a simple project, and the nature of the data used is flawed - but ideally in the future I can revisit this with a trickier data-cleaning component."
   ]
  },
  {
   "cell_type": "markdown",
   "id": "52cd3f05",
   "metadata": {},
   "source": [
    "## Motivation:\n",
    "\n",
    " Justifying advertising expenditures with measurable returns is an essential part of the industry. This project seeks to answer a fundamental question in marketing analytics: How does spending across different media channels (TV, digital, print, and social media) affect weekly product sales, after controlling for price and seasonal demand fluctuations? \n",
    " \n",
    "I will be using a simulated dataset representative of a typical consumer product's sales and marketing activity over two years. I estimate a series of marketing mix models to quantify the marginal effects and relative importance of each media channel. "
   ]
  },
  {
   "cell_type": "code",
   "execution_count": 71,
   "id": "83ea1467",
   "metadata": {},
   "outputs": [],
   "source": [
    "# Preamble \n",
    "\n",
    "import pandas as pd\n",
    "import numpy as np\n",
    "from sklearn.linear_model import LinearRegression\n",
    "import statsmodels.api as sm\n",
    "import seaborn as sns\n",
    "import matplotlib.pyplot as plt\n"
   ]
  },
  {
   "cell_type": "markdown",
   "id": "6e70afbb",
   "metadata": {},
   "source": [
    "## Data Generation\n",
    "\n",
    "For the data, I decided on two years (104 weeks) as a good window for analysis. At first, I was inclined to use a normal distribution for simplicity. However, real spend data is generally skewed and zero-bound. Because of this, it's best to consider the formation of the data more carefully.\n",
    "\n",
    "### Spend\n",
    "\n",
    "For TV and print spend activity, I assume this happens in spurts, and attempt to capture that with the binomial distribution. The skewness of spend amounts is recreated with a gamma distribution. Print spend naturally is much smaller than TV spend, but has a heavier tail for national newspapers like the New York Times and Wall Street Journal. TV is also right-skewed, with big spikes around live events.\n",
    "\n",
    "In contrast, I assume digital and social spend is essentially constant, and use log-normal to ensure positive spend and capture multiplicative variation.\n",
    "\n",
    "### Price\n",
    "For now, I leave price as a simple normal distribution localized around $9.99. Naturally, there will be some variation due to discounts, retaiiler fees, and other flucations. As for sales (in units), a gamma distribution is most appropriate; most order sizes are small, with some large outtliers. And of course, sales are in whole intergers.\n"
   ]
  },
  {
   "cell_type": "code",
   "execution_count": 14,
   "id": "825a30cf",
   "metadata": {},
   "outputs": [],
   "source": [
    "# Seed for reproducibility\n",
    "np.random.seed(42)\n",
    "\n",
    "weeks = pd.date_range(start='2021-01-01', periods=104, freq='W')\n",
    "n_weeks = len(weeks)\n",
    "\n",
    "# TV Spend\n",
    "tv_active = np.random.binomial(n=1, p=0.3, size=n_weeks)\n",
    "tv_spend = tv_active * np.random.gamma(shape=2, scale=5000, size=n_weeks)\n",
    "\n",
    "# Digital Spend\n",
    "digital_spend = np.random.lognormal(mean=np.log(5000), sigma=0.3, size=n_weeks)\n",
    "\n",
    "# Print Spend\n",
    "print_active = np.random.binomial(n=1, p=0.2, size=n_weeks)\n",
    "print_spend = print_active * np.random.gamma(shape=1.5, scale=1500, size=n_weeks)\n",
    "\n",
    "# Social Spend\n",
    "social_spend = np.random.lognormal(mean=np.log(3000), sigma=0.25, size=n_weeks)\n",
    "\n",
    "# Price\n",
    "price = np.random.normal(loc=9.99, scale=0.4, size=n_weeks)\n",
    "\n",
    "# Assemble DataFrame\n",
    "df = pd.DataFrame({\n",
    "    'week': weeks,\n",
    "    'tv_spend': tv_spend,\n",
    "    'digital_spend': digital_spend,\n",
    "    'print_spend': print_spend,\n",
    "    'social_spend': social_spend,\n",
    "    'price': price\n",
    "})\n",
    "\n",
    "# Rounding\n",
    "df['tv_spend'] = np.round(df['tv_spend'], 2)\n",
    "df['print_spend'] = np.round(df['print_spend'], 2)\n",
    "df['social_spend'] = np.round(df['social_spend'], 2)\n",
    "df['digital_spend'] = np.round(df['digital_spend'], 2)\n",
    "df['price'] = np.round(df['price'], 2)"
   ]
  },
  {
   "cell_type": "markdown",
   "id": "75cc9815",
   "metadata": {},
   "source": [
    "### Seasonality\n",
    "\n",
    " Seasonality is a bit more complex. Naturally, there are high (and low) activity seasons. This can be simulated by dummy variables for each season. For regression purposes, I'll omit \"dead winter\" as the baseline from which to compare the others.\n"
   ]
  },
  {
   "cell_type": "code",
   "execution_count": 15,
   "id": "de8586f6",
   "metadata": {},
   "outputs": [],
   "source": [
    "# Addingg a 'month' column\n",
    "df['month'] = df['week'].dt.month\n",
    "\n",
    "# Defining seasonal dummies \n",
    "df['holiday_season'] = df['month'].isin([11, 12]).astype(int)  # Nov–Dec\n",
    "df['back_to_school'] = df['month'].isin([8, 9, 10]).astype(int)    # Aug–Oct\n",
    "df['midsummer']   = df['month'].isin([6, 7]).astype(int)    # June–July\n",
    "df['spring']    = df['month'].isin([3, 4, 5]).astype(int) # March–May\n",
    "df['dead_winter'] = df['month'].isin([1, 2]).astype(int)\n",
    "\n"
   ]
  },
  {
   "cell_type": "markdown",
   "id": "453f7999",
   "metadata": {},
   "source": [
    "### Sales"
   ]
  },
  {
   "cell_type": "markdown",
   "id": "b7041008",
   "metadata": {},
   "source": [
    "## Simulating Sales\n",
    "\n",
    "To complete the dataset, I generate weekly product sales (in units). The goal is to simulate sales as a function of media spend (TV, digital, print, and social), product price, and seasonal demand fluctuations.\n",
    "\n",
    "The underlying assumptions are as follows: advertising generally increases sales with diminishing returns, price has a negative effect on units sold, and demand varies by season, with January and February serving as a low-activity baseline. Each media channel is given a true marginal effect (`beta`) which determines its contribution to expected weekly sales.\n",
    "\n",
    "My idea here is to generate coefficents, and see how close the model can get to estimating the \"truth\". Random variation is added using a Gamma distribution, which is suited to this context because it produces continuous, zero-bounded, right-skewed outcomes.\n",
    "\n",
    "The final result is a column of simulated unit sales that reflect both structured causal inputs and random week-to-week variation. This will serve as the target variable (`y`) in the OLS regression model below.\n"
   ]
  },
  {
   "cell_type": "code",
   "execution_count": 16,
   "id": "26cf41d3",
   "metadata": {},
   "outputs": [],
   "source": [
    "# Coefficients for true DGP\n",
    "intercept = 100\n",
    "beta_tv = 0.08\n",
    "beta_digital = 0.06\n",
    "beta_print = 0.03\n",
    "beta_social = 0.04\n",
    "beta_price = -5\n",
    "\n",
    "# Seasonality effect (relative to dead winter baseline)\n",
    "seasonality = (\n",
    "    df['holiday_season'] * 80 +\n",
    "    df['back_to_school'] * 40 +\n",
    "    df['midsummer'] * -20 +\n",
    "    df['spring'] * 30\n",
    ")\n",
    "\n",
    "# Expected sales (mean of gamma)\n",
    "mu = (\n",
    "    intercept\n",
    "    + beta_tv * df['tv_spend']\n",
    "    + beta_digital * df['digital_spend']\n",
    "    + beta_print * df['print_spend']\n",
    "    + beta_social * df['social_spend']\n",
    "    + beta_price * df['price']\n",
    "    + seasonality\n",
    ")\n",
    "\n",
    "# Add noise via Gamma\n",
    "scale = 0.1 * mu\n",
    "shape = mu / scale\n",
    "df['sales'] = np.random.gamma(shape, scale)\n",
    "\n",
    "# Round to int for units\n",
    "df['sales'] = df['sales'].round().astype(int)"
   ]
  },
  {
   "cell_type": "markdown",
   "id": "09fd9ee5",
   "metadata": {},
   "source": [
    "## Estimation\n",
    "\n"
   ]
  },
  {
   "cell_type": "code",
   "execution_count": null,
   "id": "d2a1b80e",
   "metadata": {},
   "outputs": [
    {
     "name": "stdout",
     "output_type": "stream",
     "text": [
      "                            OLS Regression Results                            \n",
      "==============================================================================\n",
      "Dep. Variable:                  sales   R-squared:                       0.789\n",
      "Model:                            OLS   Adj. R-squared:                  0.768\n",
      "Method:                 Least Squares   F-statistic:                     38.95\n",
      "Date:                Sat, 26 Jul 2025   Prob (F-statistic):           6.19e-28\n",
      "Time:                        15:48:58   Log-Likelihood:                -711.72\n",
      "No. Observations:                 104   AIC:                             1443.\n",
      "Df Residuals:                      94   BIC:                             1470.\n",
      "Df Model:                           9                                         \n",
      "Covariance Type:            nonrobust                                         \n",
      "==================================================================================\n",
      "                     coef    std err          t      P>|t|      [0.025      0.975]\n",
      "----------------------------------------------------------------------------------\n",
      "const            275.7743    706.281      0.390      0.697   -1126.563    1678.111\n",
      "tv_spend           0.0834      0.005     17.438      0.000       0.074       0.093\n",
      "digital_spend      0.0649      0.015      4.391      0.000       0.036       0.094\n",
      "print_spend        0.0256      0.017      1.505      0.136      -0.008       0.059\n",
      "social_spend      -0.0287      0.032     -0.903      0.369      -0.092       0.034\n",
      "price             -9.9243     66.437     -0.149      0.882    -141.836     121.987\n",
      "holiday_season   183.3302     84.202      2.177      0.032      16.145     350.515\n",
      "back_to_school    88.3748     72.981      1.211      0.229     -56.530     233.280\n",
      "midsummer        143.7602     81.895      1.755      0.082     -18.845     306.365\n",
      "spring            97.4958     75.389      1.293      0.199     -52.190     247.182\n",
      "==============================================================================\n",
      "Omnibus:                        9.982   Durbin-Watson:                   1.970\n",
      "Prob(Omnibus):                  0.007   Jarque-Bera (JB):               13.698\n",
      "Skew:                           0.465   Prob(JB):                      0.00106\n",
      "Kurtosis:                       4.515   Cond. No.                     2.22e+05\n",
      "==============================================================================\n",
      "\n",
      "Notes:\n",
      "[1] Standard Errors assume that the covariance matrix of the errors is correctly specified.\n",
      "[2] The condition number is large, 2.22e+05. This might indicate that there are\n",
      "strong multicollinearity or other numerical problems.\n"
     ]
    }
   ],
   "source": [
    "\n",
    "X = df[['tv_spend', 'digital_spend', 'print_spend', 'social_spend',\n",
    "        'price', 'holiday_season', 'back_to_school', 'midsummer', 'spring']]\n",
    "y = df['sales']\n",
    "X = sm.add_constant(X)\n",
    "model = sm.OLS(y, X).fit(cov_type='HC1') #\n",
    "print(model.summary())\n"
   ]
  },
  {
   "cell_type": "markdown",
   "id": "f5806f4f",
   "metadata": {},
   "source": [
    "# Refining the Model\n",
    "\n",
    "In this initial regression, we see a quite large t-score for TV spend and digital_spend, along with a significant (at the .05 level) t-score on the coefficent for the holiday season. The condition number error suggests there may be multicolinearity, which isn't suprising - firms with larger budgets may simply spend more on everything. \n",
    "\n",
    "Before interpeting marginal effects, I'd like to try the above with a log-transformation. It's likely that the realtionship between spend and sales (in the real world anyway) is non-linear. "
   ]
  },
  {
   "cell_type": "code",
   "execution_count": null,
   "id": "6591b0bc",
   "metadata": {},
   "outputs": [
    {
     "name": "stdout",
     "output_type": "stream",
     "text": [
      "                            OLS Regression Results                            \n",
      "==============================================================================\n",
      "Dep. Variable:              log_sales   R-squared:                       0.647\n",
      "Model:                            OLS   Adj. R-squared:                  0.613\n",
      "Method:                 Least Squares   F-statistic:                     19.14\n",
      "Date:                Sat, 26 Jul 2025   Prob (F-statistic):           9.08e-18\n",
      "Time:                        15:51:12   Log-Likelihood:                -29.813\n",
      "No. Observations:                 104   AIC:                             79.63\n",
      "Df Residuals:                      94   BIC:                             106.1\n",
      "Df Model:                           9                                         \n",
      "Covariance Type:            nonrobust                                         \n",
      "==================================================================================\n",
      "                     coef    std err          t      P>|t|      [0.025      0.975]\n",
      "----------------------------------------------------------------------------------\n",
      "const              1.4736      1.943      0.758      0.450      -2.385       5.332\n",
      "log_tv             0.0950      0.008     11.184      0.000       0.078       0.112\n",
      "log_digital        0.6068      0.114      5.302      0.000       0.380       0.834\n",
      "log_print          0.0201      0.010      1.933      0.056      -0.001       0.041\n",
      "log_social        -0.0986      0.137     -0.720      0.474      -0.371       0.174\n",
      "price              0.0229      0.094      0.243      0.809      -0.164       0.210\n",
      "holiday_season     0.2761      0.120      2.309      0.023       0.039       0.514\n",
      "back_to_school     0.0727      0.104      0.701      0.485      -0.133       0.279\n",
      "midsummer          0.1402      0.116      1.205      0.231      -0.091       0.371\n",
      "spring             0.0843      0.107      0.786      0.434      -0.129       0.297\n",
      "==============================================================================\n",
      "Omnibus:                        0.665   Durbin-Watson:                   1.852\n",
      "Prob(Omnibus):                  0.717   Jarque-Bera (JB):                0.295\n",
      "Skew:                          -0.088   Prob(JB):                        0.863\n",
      "Kurtosis:                       3.193   Cond. No.                         927.\n",
      "==============================================================================\n",
      "\n",
      "Notes:\n",
      "[1] Standard Errors assume that the covariance matrix of the errors is correctly specified.\n"
     ]
    }
   ],
   "source": [
    "df['log_sales'] = np.log(df['sales'])\n",
    "df['log_tv'] = np.log(df['tv_spend'] + 1)\n",
    "df['log_digital'] = np.log(df['digital_spend'] + 1)\n",
    "df['log_print'] = np.log(df['print_spend'] + 1)\n",
    "df['log_social'] = np.log(df['social_spend'] + 1)\n",
    "\n",
    "\n",
    "X_log = df[['log_tv', 'log_digital', 'log_print', 'log_social', \n",
    "            'price', 'holiday_season', 'back_to_school', \n",
    "            'midsummer', 'spring']]\n",
    "X_log = sm.add_constant(X_log)\n",
    "y_log = df['log_sales']\n",
    "\n",
    "model_log = sm.OLS(y_log, X_log).fit(cov_type='HC1')\n",
    "print(model_log.summary())"
   ]
  },
  {
   "cell_type": "markdown",
   "id": "393037bf",
   "metadata": {},
   "source": [
    "\n",
    "The log transformation has resolved the condition error, but a general lack of predictive power around print and social spend is still present. This is a good moment to look back at the data.\n"
   ]
  },
  {
   "cell_type": "code",
   "execution_count": 75,
   "id": "c9084945",
   "metadata": {},
   "outputs": [
    {
     "data": {
      "application/vnd.microsoft.datawrangler.viewer.v0+json": {
       "columns": [
        {
         "name": "index",
         "rawType": "object",
         "type": "string"
        },
        {
         "name": "tv_spend",
         "rawType": "float64",
         "type": "float"
        },
        {
         "name": "digital_spend",
         "rawType": "float64",
         "type": "float"
        },
        {
         "name": "print_spend",
         "rawType": "float64",
         "type": "float"
        },
        {
         "name": "social_spend",
         "rawType": "float64",
         "type": "float"
        }
       ],
       "ref": "f8c91838-d62d-4f9f-a76a-568d099783b8",
       "rows": [
        [
         "count",
         "104.0",
         "104.0",
         "104.0",
         "104.0"
        ],
        [
         "mean",
         "2624.129519230769",
         "5450.636442307692",
         "597.5132692307692",
         "3010.5219230769235"
        ],
        [
         "std",
         "5072.2683631322",
         "1627.0662566449048",
         "1401.858706207509",
         "770.6785837536036"
        ],
        [
         "min",
         "0.0",
         "2670.95",
         "0.0",
         "1528.66"
        ],
        [
         "25%",
         "0.0",
         "4329.9025",
         "0.0",
         "2514.305"
        ],
        [
         "50%",
         "0.0",
         "5098.88",
         "0.0",
         "2888.73"
        ],
        [
         "75%",
         "2977.9425",
         "6508.3325",
         "327.44",
         "3482.31"
        ],
        [
         "max",
         "22876.04",
         "10113.15",
         "6153.71",
         "5708.48"
        ]
       ],
       "shape": {
        "columns": 4,
        "rows": 8
       }
      },
      "text/html": [
       "<div>\n",
       "<style scoped>\n",
       "    .dataframe tbody tr th:only-of-type {\n",
       "        vertical-align: middle;\n",
       "    }\n",
       "\n",
       "    .dataframe tbody tr th {\n",
       "        vertical-align: top;\n",
       "    }\n",
       "\n",
       "    .dataframe thead th {\n",
       "        text-align: right;\n",
       "    }\n",
       "</style>\n",
       "<table border=\"1\" class=\"dataframe\">\n",
       "  <thead>\n",
       "    <tr style=\"text-align: right;\">\n",
       "      <th></th>\n",
       "      <th>tv_spend</th>\n",
       "      <th>digital_spend</th>\n",
       "      <th>print_spend</th>\n",
       "      <th>social_spend</th>\n",
       "    </tr>\n",
       "  </thead>\n",
       "  <tbody>\n",
       "    <tr>\n",
       "      <th>count</th>\n",
       "      <td>104.000000</td>\n",
       "      <td>104.000000</td>\n",
       "      <td>104.000000</td>\n",
       "      <td>104.000000</td>\n",
       "    </tr>\n",
       "    <tr>\n",
       "      <th>mean</th>\n",
       "      <td>2624.129519</td>\n",
       "      <td>5450.636442</td>\n",
       "      <td>597.513269</td>\n",
       "      <td>3010.521923</td>\n",
       "    </tr>\n",
       "    <tr>\n",
       "      <th>std</th>\n",
       "      <td>5072.268363</td>\n",
       "      <td>1627.066257</td>\n",
       "      <td>1401.858706</td>\n",
       "      <td>770.678584</td>\n",
       "    </tr>\n",
       "    <tr>\n",
       "      <th>min</th>\n",
       "      <td>0.000000</td>\n",
       "      <td>2670.950000</td>\n",
       "      <td>0.000000</td>\n",
       "      <td>1528.660000</td>\n",
       "    </tr>\n",
       "    <tr>\n",
       "      <th>25%</th>\n",
       "      <td>0.000000</td>\n",
       "      <td>4329.902500</td>\n",
       "      <td>0.000000</td>\n",
       "      <td>2514.305000</td>\n",
       "    </tr>\n",
       "    <tr>\n",
       "      <th>50%</th>\n",
       "      <td>0.000000</td>\n",
       "      <td>5098.880000</td>\n",
       "      <td>0.000000</td>\n",
       "      <td>2888.730000</td>\n",
       "    </tr>\n",
       "    <tr>\n",
       "      <th>75%</th>\n",
       "      <td>2977.942500</td>\n",
       "      <td>6508.332500</td>\n",
       "      <td>327.440000</td>\n",
       "      <td>3482.310000</td>\n",
       "    </tr>\n",
       "    <tr>\n",
       "      <th>max</th>\n",
       "      <td>22876.040000</td>\n",
       "      <td>10113.150000</td>\n",
       "      <td>6153.710000</td>\n",
       "      <td>5708.480000</td>\n",
       "    </tr>\n",
       "  </tbody>\n",
       "</table>\n",
       "</div>"
      ],
      "text/plain": [
       "           tv_spend  digital_spend  print_spend  social_spend\n",
       "count    104.000000     104.000000   104.000000    104.000000\n",
       "mean    2624.129519    5450.636442   597.513269   3010.521923\n",
       "std     5072.268363    1627.066257  1401.858706    770.678584\n",
       "min        0.000000    2670.950000     0.000000   1528.660000\n",
       "25%        0.000000    4329.902500     0.000000   2514.305000\n",
       "50%        0.000000    5098.880000     0.000000   2888.730000\n",
       "75%     2977.942500    6508.332500   327.440000   3482.310000\n",
       "max    22876.040000   10113.150000  6153.710000   5708.480000"
      ]
     },
     "execution_count": 75,
     "metadata": {},
     "output_type": "execute_result"
    }
   ],
   "source": [
    "df[['tv_spend', 'digital_spend', 'print_spend', 'social_spend']].describe()"
   ]
  },
  {
   "cell_type": "markdown",
   "id": "0d94209f",
   "metadata": {},
   "source": [
    "In the generated data, the range of spending for TV and digital is much larger than for print and social. The smaller ranges for print and social likely provided less signal for estimation. Using the data to generate the betas should improve model performance."
   ]
  },
  {
   "cell_type": "code",
   "execution_count": 61,
   "id": "417d2c12",
   "metadata": {},
   "outputs": [],
   "source": [
    "df['true_log_sales'] = (\n",
    "    intercept +\n",
    "    beta_tv * df['log_tv'] +\n",
    "    beta_digital * df['log_digital'] +\n",
    "    beta_print * df['log_print'] +\n",
    "    beta_social * df['log_social'] +\n",
    "    beta_price * df['price'] +\n",
    "    beta_holiday * df['holiday_season'] +\n",
    "    beta_back_to_school * df['back_to_school'] +\n",
    "    beta_midsummer * df['midsummer'] +\n",
    "    beta_spring * df['spring'] +\n",
    "    np.random.normal(0, 0.1, size=len(df)) \n",
    ")\n",
    "\n",
    "df['sales'] = np.exp(df['true_log_sales'])\n"
   ]
  },
  {
   "cell_type": "code",
   "execution_count": 73,
   "id": "de1d8c7a",
   "metadata": {},
   "outputs": [
    {
     "name": "stdout",
     "output_type": "stream",
     "text": [
      "                            OLS Regression Results                            \n",
      "==============================================================================\n",
      "Dep. Variable:                  sales   R-squared:                       0.998\n",
      "Model:                            OLS   Adj. R-squared:                  0.998\n",
      "Method:                 Least Squares   F-statistic:                     5754.\n",
      "Date:                Sat, 26 Jul 2025   Prob (F-statistic):          9.66e-125\n",
      "Time:                        16:59:38   Log-Likelihood:                 98.515\n",
      "No. Observations:                 104   AIC:                            -177.0\n",
      "Df Residuals:                      94   BIC:                            -150.6\n",
      "Df Model:                           9                                         \n",
      "Covariance Type:                  HC1                                         \n",
      "==================================================================================\n",
      "                     coef    std err          z      P>|z|      [0.025      0.975]\n",
      "----------------------------------------------------------------------------------\n",
      "const             99.0021      0.640    154.627      0.000      97.747     100.257\n",
      "log_tv             0.0739      0.002     31.983      0.000       0.069       0.078\n",
      "log_digital        0.0670      0.038      1.756      0.079      -0.008       0.142\n",
      "log_print          0.0327      0.004      9.005      0.000       0.026       0.040\n",
      "log_social         0.0808      0.047      1.735      0.083      -0.010       0.172\n",
      "price             -4.9384      0.027   -181.535      0.000      -4.992      -4.885\n",
      "holiday_season     0.8199      0.040     20.710      0.000       0.742       0.898\n",
      "back_to_school     0.6022      0.029     20.788      0.000       0.545       0.659\n",
      "midsummer         -0.1941      0.031     -6.273      0.000      -0.255      -0.133\n",
      "spring             0.4606      0.030     15.314      0.000       0.402       0.520\n",
      "==============================================================================\n",
      "Omnibus:                        0.055   Durbin-Watson:                   2.036\n",
      "Prob(Omnibus):                  0.973   Jarque-Bera (JB):                0.006\n",
      "Skew:                          -0.003   Prob(JB):                        0.997\n",
      "Kurtosis:                       2.964   Cond. No.                         927.\n",
      "==============================================================================\n",
      "\n",
      "Notes:\n",
      "[1] Standard Errors are heteroscedasticity robust (HC1)\n"
     ]
    }
   ],
   "source": [
    "y = np.log(df['sales'])  # or use df['true_log_sales']\n",
    "X = sm.add_constant(df[['log_tv', 'log_digital', 'log_print', 'log_social', \n",
    "                        'price', 'holiday_season', 'back_to_school', \n",
    "                        'midsummer', 'spring']])\n",
    "\n",
    "model = sm.OLS(y, X).fit(cov_type='HC1')\n",
    "print(model.summary())"
   ]
  },
  {
   "cell_type": "markdown",
   "id": "f5069922",
   "metadata": {},
   "source": [
    "## Final Interpretation\n",
    "\n",
    "This model demonstrates much stronger explanatory power (R² = 0.998), with all predictors statistically significant at the 5% level.\n",
    "\n",
    "By log-transforming the media spend variables while keeping sales in raw units, we can interpret the coefficients as semi-elasticities, holding all else constant.\n",
    "\n",
    "On average:\n",
    "- A 1% increase in TV spend is associated with a **0.074 unit** increase in sales.\n",
    "- A 1% increase in Digital spend is associated with a **0.067 unit** increase in sales.\n",
    "- A 1% increase in Print spend is associated with a **0.033 unit** increase in sales.\n",
    "- A 1% increase in Social spend is associated with a **0.081 unit** increase in sales.\n",
    "\n",
    "Other variables behave as expected:\n",
    "- Price has a large, negative effect on sales (≈ –4.94 per unit), confirming price sensitivity.\n",
    "- Holiday and Back-to-School seasons drive large positive increases in sales, while Midsummer slightly suppresses them.\n",
    "- Spring also shows a significant positive bump in sales.\n",
    "\n"
   ]
  },
  {
   "cell_type": "markdown",
   "id": "ca39632a",
   "metadata": {},
   "source": [
    "# Visualziation\n",
    "\n",
    "Elasticities are great for data scientists, but stakeholders in a business context may be more concerned about return on investment at current spending levels. We can frame our results this way by calculating the cost of a 1% increase in sales (.01 / $\\beta$), and plugging that into the following:\n",
    "\n",
    "$$\n",
    "\\text{Cost}_{1\\%} = \\bar{x} \\left( e^{0.01 / \\beta} - 1 \\right)\n",
    "$$\n",
    "\n",
    "Where:\n",
    "- $\\bar{x}$ is the mean spend on the media channel,\n",
    "- The expression $e^{0.01 / \\beta} - 1$ gives the required percent increase in spend to achieve a 1% increase in sales, assuming log-log functional form.\n",
    "\n",
    "\n"
   ]
  },
  {
   "cell_type": "code",
   "execution_count": 83,
   "id": "877ea718",
   "metadata": {},
   "outputs": [
    {
     "data": {
      "image/png": "[encoded data removed]",
      "text/plain": [
       "<Figure size 800x500 with 1 Axes>"
      ]
     },
     "metadata": {},
     "output_type": "display_data"
    }
   ],
   "source": [
    "betas = {\n",
    "    \"TV\": 0.0739,\n",
    "    \"Digital\": 0.067,\n",
    "    \"Print\": 0.0327,\n",
    "    \"Social\": 0.0808\n",
    "}\n",
    "\n",
    "mean_spends = {\n",
    "    \"TV\": 2624.129519230769,\n",
    "    \"Digital\": 5450.636442307692,\n",
    "    \"Print\": 597.5132692307692,\n",
    "    \"Social\": 3010.5219230769235\n",
    "}\n",
    "\n",
    "costs = {\n",
    "    channel: spend * (np.exp(0.01 / beta) - 1)\n",
    "    for channel, (beta, spend) in zip(betas.keys(), zip(betas.values(), mean_spends.values()))\n",
    "}\n",
    "\n",
    "# Plot\n",
    "plt.figure(figsize=(8, 5))\n",
    "plt.bar(costs.keys(), costs.values(), color='steelblue')\n",
    "plt.title(\"Cost of 1% Sales Increase by Media Channel\")\n",
    "plt.ylabel(\"Dollars Needed\")\n",
    "plt.grid(axis='y', linestyle='--', alpha=0.5)\n",
    "plt.tight_layout()\n",
    "plt.show()"
   ]
  },
  {
   "cell_type": "markdown",
   "id": "f23850b5",
   "metadata": {},
   "source": [
    "Interestingly, print advertising emerges as the cheapest way to increase sales by 1%, according to our model. This contrasts with typical real-world expectations but reflects the simulated data’s beta coefficients and spending distributions. It suggests diminishing returns in TV, digital, and social spends may have pushed those channels further along the saturation curve, making print spend relatively more efficient here."
   ]
  },
  {
   "cell_type": "markdown",
   "id": "f551f11f",
   "metadata": {},
   "source": [
    "# Summary and Next Steps\n",
    "\n",
    "This project serves as a useful exercise in marketing mix modeling and Python-based regression analysis. The simulated dataset allowed controlled exploration of variable relationships and the impact of transformations.\n",
    "\n",
    "Future extensions could incorporate:\n",
    "\n",
    "-   Real-world messy data and associated cleaning challenges.\n",
    "\n",
    "-   More complex models such as finite mixture models or nonlinear approaches.\n",
    "\n",
    "-   Incorporation of interaction effects and consumer heterogeneity."
   ]
  }
 ],
 "metadata": {
  "kernelspec": {
   "display_name": "Python 3",
   "language": "python",
   "name": "python3"
  },
  "language_info": {
   "codemirror_mode": {
    "name": "ipython",
    "version": 3
   },
   "file_extension": ".py",
   "mimetype": "text/x-python",
   "name": "python",
   "nbconvert_exporter": "python",
   "pygments_lexer": "ipython3",
   "version": "3.13.2"
  }
 },
 "nbformat": 4,
 "nbformat_minor": 5
}
